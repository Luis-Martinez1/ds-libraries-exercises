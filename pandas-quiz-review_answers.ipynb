{
 "cells": [
  {
   "cell_type": "markdown",
   "id": "10fe5d98",
   "metadata": {},
   "source": [
    "# Pandas Review using a Pokemon Dataset"
   ]
  },
  {
   "cell_type": "code",
   "execution_count": 53,
   "id": "3266ec83",
   "metadata": {},
   "outputs": [],
   "source": [
    "import pandas as pd\n",
    "\n",
    "df = pd.read_csv('https://gist.githubusercontent.com/armgilles/\\\n",
    "194bcff35001e7eb53a2a8b441e8b2c6/raw/92200bc0a673d5ce2110aaad4544ed6c4010f687/pokemon.csv')"
   ]
  },
  {
   "cell_type": "markdown",
   "id": "a8bf1961",
   "metadata": {},
   "source": [
    "### Practice Exercises"
   ]
  },
  {
   "cell_type": "markdown",
   "id": "49599bbd",
   "metadata": {},
   "source": [
    "#### 1. Obtain the following information:\n",
    "    \n",
    "    - dimensions\n",
    "    - dtypes\n",
    "    - column names\n",
    "    - summary statistics\n"
   ]
  },
  {
   "cell_type": "code",
   "execution_count": 54,
   "id": "7ef0f081",
   "metadata": {},
   "outputs": [
    {
     "data": {
      "text/plain": [
       "(800, 13)"
      ]
     },
     "execution_count": 54,
     "metadata": {},
     "output_type": "execute_result"
    }
   ],
   "source": [
    "df.shape"
   ]
  },
  {
   "cell_type": "code",
   "execution_count": 55,
   "id": "fb4b7c20",
   "metadata": {},
   "outputs": [
    {
     "name": "stdout",
     "output_type": "stream",
     "text": [
      "<class 'pandas.core.frame.DataFrame'>\n",
      "RangeIndex: 800 entries, 0 to 799\n",
      "Data columns (total 13 columns):\n",
      " #   Column      Non-Null Count  Dtype \n",
      "---  ------      --------------  ----- \n",
      " 0   #           800 non-null    int64 \n",
      " 1   Name        800 non-null    object\n",
      " 2   Type 1      800 non-null    object\n",
      " 3   Type 2      414 non-null    object\n",
      " 4   Total       800 non-null    int64 \n",
      " 5   HP          800 non-null    int64 \n",
      " 6   Attack      800 non-null    int64 \n",
      " 7   Defense     800 non-null    int64 \n",
      " 8   Sp. Atk     800 non-null    int64 \n",
      " 9   Sp. Def     800 non-null    int64 \n",
      " 10  Speed       800 non-null    int64 \n",
      " 11  Generation  800 non-null    int64 \n",
      " 12  Legendary   800 non-null    bool  \n",
      "dtypes: bool(1), int64(9), object(3)\n",
      "memory usage: 75.9+ KB\n"
     ]
    }
   ],
   "source": [
    "df.info()"
   ]
  },
  {
   "cell_type": "code",
   "execution_count": 56,
   "id": "29012ec9",
   "metadata": {},
   "outputs": [
    {
     "data": {
      "text/plain": [
       "Index(['#', 'Name', 'Type 1', 'Type 2', 'Total', 'HP', 'Attack', 'Defense',\n",
       "       'Sp. Atk', 'Sp. Def', 'Speed', 'Generation', 'Legendary'],\n",
       "      dtype='object')"
      ]
     },
     "execution_count": 56,
     "metadata": {},
     "output_type": "execute_result"
    }
   ],
   "source": [
    "df.columns"
   ]
  },
  {
   "cell_type": "code",
   "execution_count": 57,
   "id": "b609dcc4",
   "metadata": {},
   "outputs": [
    {
     "data": {
      "text/html": [
       "<div>\n",
       "<style scoped>\n",
       "    .dataframe tbody tr th:only-of-type {\n",
       "        vertical-align: middle;\n",
       "    }\n",
       "\n",
       "    .dataframe tbody tr th {\n",
       "        vertical-align: top;\n",
       "    }\n",
       "\n",
       "    .dataframe thead th {\n",
       "        text-align: right;\n",
       "    }\n",
       "</style>\n",
       "<table border=\"1\" class=\"dataframe\">\n",
       "  <thead>\n",
       "    <tr style=\"text-align: right;\">\n",
       "      <th></th>\n",
       "      <th>#</th>\n",
       "      <th>Total</th>\n",
       "      <th>HP</th>\n",
       "      <th>Attack</th>\n",
       "      <th>Defense</th>\n",
       "      <th>Sp. Atk</th>\n",
       "      <th>Sp. Def</th>\n",
       "      <th>Speed</th>\n",
       "      <th>Generation</th>\n",
       "    </tr>\n",
       "  </thead>\n",
       "  <tbody>\n",
       "    <tr>\n",
       "      <th>count</th>\n",
       "      <td>800.000000</td>\n",
       "      <td>800.00000</td>\n",
       "      <td>800.000000</td>\n",
       "      <td>800.000000</td>\n",
       "      <td>800.000000</td>\n",
       "      <td>800.000000</td>\n",
       "      <td>800.000000</td>\n",
       "      <td>800.000000</td>\n",
       "      <td>800.00000</td>\n",
       "    </tr>\n",
       "    <tr>\n",
       "      <th>mean</th>\n",
       "      <td>362.813750</td>\n",
       "      <td>435.10250</td>\n",
       "      <td>69.258750</td>\n",
       "      <td>79.001250</td>\n",
       "      <td>73.842500</td>\n",
       "      <td>72.820000</td>\n",
       "      <td>71.902500</td>\n",
       "      <td>68.277500</td>\n",
       "      <td>3.32375</td>\n",
       "    </tr>\n",
       "    <tr>\n",
       "      <th>std</th>\n",
       "      <td>208.343798</td>\n",
       "      <td>119.96304</td>\n",
       "      <td>25.534669</td>\n",
       "      <td>32.457366</td>\n",
       "      <td>31.183501</td>\n",
       "      <td>32.722294</td>\n",
       "      <td>27.828916</td>\n",
       "      <td>29.060474</td>\n",
       "      <td>1.66129</td>\n",
       "    </tr>\n",
       "    <tr>\n",
       "      <th>min</th>\n",
       "      <td>1.000000</td>\n",
       "      <td>180.00000</td>\n",
       "      <td>1.000000</td>\n",
       "      <td>5.000000</td>\n",
       "      <td>5.000000</td>\n",
       "      <td>10.000000</td>\n",
       "      <td>20.000000</td>\n",
       "      <td>5.000000</td>\n",
       "      <td>1.00000</td>\n",
       "    </tr>\n",
       "    <tr>\n",
       "      <th>25%</th>\n",
       "      <td>184.750000</td>\n",
       "      <td>330.00000</td>\n",
       "      <td>50.000000</td>\n",
       "      <td>55.000000</td>\n",
       "      <td>50.000000</td>\n",
       "      <td>49.750000</td>\n",
       "      <td>50.000000</td>\n",
       "      <td>45.000000</td>\n",
       "      <td>2.00000</td>\n",
       "    </tr>\n",
       "    <tr>\n",
       "      <th>50%</th>\n",
       "      <td>364.500000</td>\n",
       "      <td>450.00000</td>\n",
       "      <td>65.000000</td>\n",
       "      <td>75.000000</td>\n",
       "      <td>70.000000</td>\n",
       "      <td>65.000000</td>\n",
       "      <td>70.000000</td>\n",
       "      <td>65.000000</td>\n",
       "      <td>3.00000</td>\n",
       "    </tr>\n",
       "    <tr>\n",
       "      <th>75%</th>\n",
       "      <td>539.250000</td>\n",
       "      <td>515.00000</td>\n",
       "      <td>80.000000</td>\n",
       "      <td>100.000000</td>\n",
       "      <td>90.000000</td>\n",
       "      <td>95.000000</td>\n",
       "      <td>90.000000</td>\n",
       "      <td>90.000000</td>\n",
       "      <td>5.00000</td>\n",
       "    </tr>\n",
       "    <tr>\n",
       "      <th>max</th>\n",
       "      <td>721.000000</td>\n",
       "      <td>780.00000</td>\n",
       "      <td>255.000000</td>\n",
       "      <td>190.000000</td>\n",
       "      <td>230.000000</td>\n",
       "      <td>194.000000</td>\n",
       "      <td>230.000000</td>\n",
       "      <td>180.000000</td>\n",
       "      <td>6.00000</td>\n",
       "    </tr>\n",
       "  </tbody>\n",
       "</table>\n",
       "</div>"
      ],
      "text/plain": [
       "                #      Total          HP      Attack     Defense     Sp. Atk  \\\n",
       "count  800.000000  800.00000  800.000000  800.000000  800.000000  800.000000   \n",
       "mean   362.813750  435.10250   69.258750   79.001250   73.842500   72.820000   \n",
       "std    208.343798  119.96304   25.534669   32.457366   31.183501   32.722294   \n",
       "min      1.000000  180.00000    1.000000    5.000000    5.000000   10.000000   \n",
       "25%    184.750000  330.00000   50.000000   55.000000   50.000000   49.750000   \n",
       "50%    364.500000  450.00000   65.000000   75.000000   70.000000   65.000000   \n",
       "75%    539.250000  515.00000   80.000000  100.000000   90.000000   95.000000   \n",
       "max    721.000000  780.00000  255.000000  190.000000  230.000000  194.000000   \n",
       "\n",
       "          Sp. Def       Speed  Generation  \n",
       "count  800.000000  800.000000   800.00000  \n",
       "mean    71.902500   68.277500     3.32375  \n",
       "std     27.828916   29.060474     1.66129  \n",
       "min     20.000000    5.000000     1.00000  \n",
       "25%     50.000000   45.000000     2.00000  \n",
       "50%     70.000000   65.000000     3.00000  \n",
       "75%     90.000000   90.000000     5.00000  \n",
       "max    230.000000  180.000000     6.00000  "
      ]
     },
     "execution_count": 57,
     "metadata": {},
     "output_type": "execute_result"
    }
   ],
   "source": [
    "df.describe()"
   ]
  },
  {
   "cell_type": "markdown",
   "id": "8b208f4e",
   "metadata": {},
   "source": [
    "#### 2. Change all the column names\n",
    "      - lowercase letters\n",
    "      - remove whitespace\n",
    "      - remove periods"
   ]
  },
  {
   "cell_type": "code",
   "execution_count": 58,
   "id": "784a255f",
   "metadata": {},
   "outputs": [
    {
     "data": {
      "text/plain": [
       "Index(['number', 'name', 'type_1', 'type_2', 'total', 'hp', 'attack',\n",
       "       'defense', 'sp_atk', 'sp_def', 'speed', 'generation', 'legendary'],\n",
       "      dtype='object')"
      ]
     },
     "execution_count": 58,
     "metadata": {},
     "output_type": "execute_result"
    }
   ],
   "source": [
    "df.columns = df.columns.str.lower()\n",
    "df =df.rename(columns={'#':'number'})\n",
    "df =df.rename(columns={'type 1':'type_1'})\n",
    "df =df.rename(columns={'type 2':'type_2'})\n",
    "df =df.rename(columns={'sp. atk':'sp_atk'})\n",
    "df =df.rename(columns={'sp. def':'sp_def'})\n",
    "\n",
    "\n",
    "df.columns\n"
   ]
  },
  {
   "cell_type": "markdown",
   "id": "392889dd",
   "metadata": {},
   "source": [
    "#### 3. What is the highest HP value present?"
   ]
  },
  {
   "cell_type": "markdown",
   "id": "4b2b6211",
   "metadata": {},
   "source": [
    "A: 255"
   ]
  },
  {
   "cell_type": "code",
   "execution_count": 59,
   "id": "9a800dfd",
   "metadata": {},
   "outputs": [
    {
     "data": {
      "text/plain": [
       "255"
      ]
     },
     "execution_count": 59,
     "metadata": {},
     "output_type": "execute_result"
    }
   ],
   "source": [
    "df.hp.max()"
   ]
  },
  {
   "cell_type": "markdown",
   "id": "a125501f",
   "metadata": {},
   "source": [
    "#### 4. Which Pokemon possess(es) the highest HP value?\n",
    "- note: the `name` column is the pokemon name"
   ]
  },
  {
   "cell_type": "markdown",
   "id": "a49a3609",
   "metadata": {},
   "source": [
    "A: Blissey"
   ]
  },
  {
   "cell_type": "code",
   "execution_count": 60,
   "id": "b24b6d50",
   "metadata": {},
   "outputs": [
    {
     "data": {
      "text/html": [
       "<div>\n",
       "<style scoped>\n",
       "    .dataframe tbody tr th:only-of-type {\n",
       "        vertical-align: middle;\n",
       "    }\n",
       "\n",
       "    .dataframe tbody tr th {\n",
       "        vertical-align: top;\n",
       "    }\n",
       "\n",
       "    .dataframe thead th {\n",
       "        text-align: right;\n",
       "    }\n",
       "</style>\n",
       "<table border=\"1\" class=\"dataframe\">\n",
       "  <thead>\n",
       "    <tr style=\"text-align: right;\">\n",
       "      <th></th>\n",
       "      <th>number</th>\n",
       "      <th>name</th>\n",
       "      <th>type_1</th>\n",
       "      <th>type_2</th>\n",
       "      <th>total</th>\n",
       "      <th>hp</th>\n",
       "      <th>attack</th>\n",
       "      <th>defense</th>\n",
       "      <th>sp_atk</th>\n",
       "      <th>sp_def</th>\n",
       "      <th>speed</th>\n",
       "      <th>generation</th>\n",
       "      <th>legendary</th>\n",
       "    </tr>\n",
       "  </thead>\n",
       "  <tbody>\n",
       "    <tr>\n",
       "      <th>261</th>\n",
       "      <td>242</td>\n",
       "      <td>Blissey</td>\n",
       "      <td>Normal</td>\n",
       "      <td>NaN</td>\n",
       "      <td>540</td>\n",
       "      <td>255</td>\n",
       "      <td>10</td>\n",
       "      <td>10</td>\n",
       "      <td>75</td>\n",
       "      <td>135</td>\n",
       "      <td>55</td>\n",
       "      <td>2</td>\n",
       "      <td>False</td>\n",
       "    </tr>\n",
       "  </tbody>\n",
       "</table>\n",
       "</div>"
      ],
      "text/plain": [
       "     number     name  type_1 type_2  total   hp  attack  defense  sp_atk  \\\n",
       "261     242  Blissey  Normal    NaN    540  255      10       10      75   \n",
       "\n",
       "     sp_def  speed  generation  legendary  \n",
       "261     135     55           2      False  "
      ]
     },
     "execution_count": 60,
     "metadata": {},
     "output_type": "execute_result"
    }
   ],
   "source": [
    "hp_series = df['hp'] == df['hp'].max()\n",
    "highest_hp = df[hp_series]\n",
    "highest_hp"
   ]
  },
  {
   "cell_type": "markdown",
   "id": "bb6cad0f",
   "metadata": {},
   "source": [
    "#### 5. How many different types are represented in Type 1? What are they?\n"
   ]
  },
  {
   "cell_type": "markdown",
   "id": "abf6bea2",
   "metadata": {},
   "source": [
    "A: 18,  ['Grass', 'Fire', 'Water', 'Bug', 'Normal', 'Poison', 'Electric',\n",
    "       'Ground', 'Fairy', 'Fighting', 'Psychic', 'Rock', 'Ghost', 'Ice',\n",
    "       'Dragon', 'Dark', 'Steel', 'Flying']"
   ]
  },
  {
   "cell_type": "code",
   "execution_count": 61,
   "id": "4ec1466b",
   "metadata": {},
   "outputs": [
    {
     "name": "stdout",
     "output_type": "stream",
     "text": [
      "18\n"
     ]
    },
    {
     "data": {
      "text/plain": [
       "array(['Grass', 'Fire', 'Water', 'Bug', 'Normal', 'Poison', 'Electric',\n",
       "       'Ground', 'Fairy', 'Fighting', 'Psychic', 'Rock', 'Ghost', 'Ice',\n",
       "       'Dragon', 'Dark', 'Steel', 'Flying'], dtype=object)"
      ]
     },
     "execution_count": 61,
     "metadata": {},
     "output_type": "execute_result"
    }
   ],
   "source": [
    "print(df.type_1.nunique())\n",
    "df.type_1.unique()"
   ]
  },
  {
   "cell_type": "markdown",
   "id": "79fc612f",
   "metadata": {},
   "source": [
    "#### 6. Number of Pokemon whose Type 2 is Ghost"
   ]
  },
  {
   "cell_type": "code",
   "execution_count": 62,
   "id": "5d0d4c76",
   "metadata": {},
   "outputs": [
    {
     "data": {
      "text/plain": [
       "14"
      ]
     },
     "execution_count": 62,
     "metadata": {},
     "output_type": "execute_result"
    }
   ],
   "source": [
    "ghost_series = df['type_2'] == 'Ghost'\n",
    "type_2_ghost = df[ghost_series]\n",
    "len(type_2_ghost)\n"
   ]
  },
  {
   "cell_type": "markdown",
   "id": "a30d1111",
   "metadata": {},
   "source": [
    "A: 14"
   ]
  },
  {
   "cell_type": "markdown",
   "id": "6030c843",
   "metadata": {},
   "source": [
    "#### 7. Percentage of Pokemon whose Type 2 is Ghost"
   ]
  },
  {
   "cell_type": "code",
   "execution_count": 63,
   "id": "c2a46b81",
   "metadata": {},
   "outputs": [
    {
     "data": {
      "text/plain": [
       "1.75"
      ]
     },
     "execution_count": 63,
     "metadata": {},
     "output_type": "execute_result"
    }
   ],
   "source": [
    "round((len(type_2_ghost)/len(df.type_2))*100, 2)"
   ]
  },
  {
   "cell_type": "markdown",
   "id": "aee59c5b",
   "metadata": {},
   "source": [
    "A: 1.75"
   ]
  },
  {
   "cell_type": "markdown",
   "id": "6b5c4dd8",
   "metadata": {},
   "source": [
    "#### 8. Number of Pokemon whose Attack is greater than Defense"
   ]
  },
  {
   "cell_type": "code",
   "execution_count": 64,
   "id": "84695fa7",
   "metadata": {},
   "outputs": [
    {
     "data": {
      "text/plain": [
       "433"
      ]
     },
     "execution_count": 64,
     "metadata": {},
     "output_type": "execute_result"
    }
   ],
   "source": [
    "great_attack = (df.attack)>(df.defense)\n",
    "great_attack.sum()"
   ]
  },
  {
   "cell_type": "markdown",
   "id": "f31dbc85",
   "metadata": {},
   "source": [
    "A: 433"
   ]
  },
  {
   "cell_type": "markdown",
   "id": "ee9336b6",
   "metadata": {},
   "source": [
    "#### 9. What is the slowest speed for Grass type (either type 1 or type 2)"
   ]
  },
  {
   "cell_type": "markdown",
   "id": "11db6f7a",
   "metadata": {},
   "source": [
    "A: 10"
   ]
  },
  {
   "cell_type": "code",
   "execution_count": 65,
   "id": "ea0e656a",
   "metadata": {},
   "outputs": [
    {
     "data": {
      "text/plain": [
       "5"
      ]
     },
     "execution_count": 65,
     "metadata": {},
     "output_type": "execute_result"
    }
   ],
   "source": [
    "df.speed.min()\n"
   ]
  },
  {
   "cell_type": "code",
   "execution_count": 45,
   "id": "c81f15ee",
   "metadata": {},
   "outputs": [
    {
     "data": {
      "text/plain": [
       "20"
      ]
     },
     "execution_count": 45,
     "metadata": {},
     "output_type": "execute_result"
    }
   ],
   "source": [
    "grss_series = df['type_1'] == 'Ghost'\n",
    "type_2_ghost = df[ghost_series]\n",
    "type_2_ghost.speed.min()\n",
    "\n"
   ]
  },
  {
   "cell_type": "code",
   "execution_count": 46,
   "id": "2a527cfb",
   "metadata": {},
   "outputs": [
    {
     "data": {
      "text/plain": [
       "nan"
      ]
     },
     "execution_count": 46,
     "metadata": {},
     "output_type": "execute_result"
    }
   ],
   "source": [
    "grss_seriess = df['type_1'] == 'Ghost'\n",
    "type_1_ghost = df[grss_seriess]\n",
    "type_1_ghost.speed.min()"
   ]
  },
  {
   "cell_type": "code",
   "execution_count": null,
   "id": "5b011847",
   "metadata": {},
   "outputs": [],
   "source": [
    "grs_series"
   ]
  },
  {
   "cell_type": "code",
   "execution_count": 42,
   "id": "e15b16df",
   "metadata": {},
   "outputs": [
    {
     "ename": "AttributeError",
     "evalue": "'str' object has no attribute 'speed'",
     "output_type": "error",
     "traceback": [
      "\u001b[0;31m---------------------------------------------------------------------------\u001b[0m",
      "\u001b[0;31mAttributeError\u001b[0m                            Traceback (most recent call last)",
      "Cell \u001b[0;32mIn[42], line 2\u001b[0m\n\u001b[1;32m      1\u001b[0m grass_series\u001b[38;5;241m=\u001b[39mdf[\u001b[38;5;124m'\u001b[39m\u001b[38;5;124mtype_1\u001b[39m\u001b[38;5;124m'\u001b[39m]\u001b[38;5;241m=\u001b[39m\u001b[38;5;124m'\u001b[39m\u001b[38;5;124mGrass\u001b[39m\u001b[38;5;124m'\u001b[39m\n\u001b[0;32m----> 2\u001b[0m grass_series\u001b[38;5;241m.\u001b[39mspeed\u001b[38;5;241m.\u001b[39mmin()\n",
      "\u001b[0;31mAttributeError\u001b[0m: 'str' object has no attribute 'speed'"
     ]
    }
   ],
   "source": [
    "grass_series=df['type_1']='Grass'\n",
    "grass_series.speed.min()\n",
    "\n",
    "# grass_poke= grass_series.min(\"speed\")\n",
    "\n",
    "\n"
   ]
  },
  {
   "cell_type": "code",
   "execution_count": 39,
   "id": "eb939cef",
   "metadata": {},
   "outputs": [
    {
     "data": {
      "text/plain": [
       "5"
      ]
     },
     "execution_count": 39,
     "metadata": {},
     "output_type": "execute_result"
    }
   ],
   "source": [
    "grass_pokemon = df[df['type_1'] == 'Grass']\n",
    "grass_pokemon['speed'].min()\n",
    "\n",
    "# Find the slowest speed\n",
    "# slowest_speed = grass_pokemon['speed'].min()\n",
    "# slowest_speed"
   ]
  },
  {
   "cell_type": "markdown",
   "id": "73411538",
   "metadata": {},
   "source": [
    "#### 10. Find the average speed by Generation"
   ]
  },
  {
   "cell_type": "markdown",
   "id": "4ed58df8",
   "metadata": {},
   "source": [
    "A: generation\n",
    "- 1:    72.6\n",
    "- 2:    61.8\n",
    "- 3:    66.9\n",
    "- 4:    71.3\n",
    "- 5:    68.1\n",
    "- 6:    66.4"
   ]
  },
  {
   "cell_type": "code",
   "execution_count": 47,
   "id": "984c5c2f",
   "metadata": {},
   "outputs": [
    {
     "data": {
      "text/plain": [
       "generation\n",
       "1    72.584337\n",
       "2    61.811321\n",
       "3    66.925000\n",
       "4    71.338843\n",
       "5    68.078788\n",
       "6    66.439024\n",
       "Name: speed, dtype: float64"
      ]
     },
     "execution_count": 47,
     "metadata": {},
     "output_type": "execute_result"
    }
   ],
   "source": [
    "df.groupby('generation').speed.mean()\n"
   ]
  },
  {
   "cell_type": "markdown",
   "id": "4fad3770",
   "metadata": {},
   "source": [
    "#### 11. How many LEGENDARY Pokemon are DRAGON type?"
   ]
  },
  {
   "cell_type": "markdown",
   "id": "4ddbb0f0",
   "metadata": {},
   "source": [
    "A: 16"
   ]
  },
  {
   "cell_type": "code",
   "execution_count": 93,
   "id": "2f0a2d9a",
   "metadata": {},
   "outputs": [
    {
     "data": {
      "text/html": [
       "<div>\n",
       "<style scoped>\n",
       "    .dataframe tbody tr th:only-of-type {\n",
       "        vertical-align: middle;\n",
       "    }\n",
       "\n",
       "    .dataframe tbody tr th {\n",
       "        vertical-align: top;\n",
       "    }\n",
       "\n",
       "    .dataframe thead th {\n",
       "        text-align: right;\n",
       "    }\n",
       "</style>\n",
       "<table border=\"1\" class=\"dataframe\">\n",
       "  <thead>\n",
       "    <tr style=\"text-align: right;\">\n",
       "      <th></th>\n",
       "      <th>number</th>\n",
       "      <th>name</th>\n",
       "      <th>type_1</th>\n",
       "      <th>type_2</th>\n",
       "      <th>total</th>\n",
       "      <th>hp</th>\n",
       "      <th>attack</th>\n",
       "      <th>defense</th>\n",
       "      <th>sp_atk</th>\n",
       "      <th>sp_def</th>\n",
       "      <th>speed</th>\n",
       "      <th>generation</th>\n",
       "      <th>legendary</th>\n",
       "    </tr>\n",
       "  </thead>\n",
       "  <tbody>\n",
       "    <tr>\n",
       "      <th>7</th>\n",
       "      <td>6</td>\n",
       "      <td>CharizardMega Charizard X</td>\n",
       "      <td>Fire</td>\n",
       "      <td>Dragon</td>\n",
       "      <td>634</td>\n",
       "      <td>78</td>\n",
       "      <td>130</td>\n",
       "      <td>111</td>\n",
       "      <td>130</td>\n",
       "      <td>85</td>\n",
       "      <td>100</td>\n",
       "      <td>1</td>\n",
       "      <td>False</td>\n",
       "    </tr>\n",
       "    <tr>\n",
       "      <th>196</th>\n",
       "      <td>181</td>\n",
       "      <td>AmpharosMega Ampharos</td>\n",
       "      <td>Electric</td>\n",
       "      <td>Dragon</td>\n",
       "      <td>610</td>\n",
       "      <td>90</td>\n",
       "      <td>95</td>\n",
       "      <td>105</td>\n",
       "      <td>165</td>\n",
       "      <td>110</td>\n",
       "      <td>45</td>\n",
       "      <td>2</td>\n",
       "      <td>False</td>\n",
       "    </tr>\n",
       "    <tr>\n",
       "      <th>249</th>\n",
       "      <td>230</td>\n",
       "      <td>Kingdra</td>\n",
       "      <td>Water</td>\n",
       "      <td>Dragon</td>\n",
       "      <td>540</td>\n",
       "      <td>75</td>\n",
       "      <td>95</td>\n",
       "      <td>95</td>\n",
       "      <td>95</td>\n",
       "      <td>95</td>\n",
       "      <td>85</td>\n",
       "      <td>2</td>\n",
       "      <td>False</td>\n",
       "    </tr>\n",
       "    <tr>\n",
       "      <th>275</th>\n",
       "      <td>254</td>\n",
       "      <td>SceptileMega Sceptile</td>\n",
       "      <td>Grass</td>\n",
       "      <td>Dragon</td>\n",
       "      <td>630</td>\n",
       "      <td>70</td>\n",
       "      <td>110</td>\n",
       "      <td>75</td>\n",
       "      <td>145</td>\n",
       "      <td>85</td>\n",
       "      <td>145</td>\n",
       "      <td>3</td>\n",
       "      <td>False</td>\n",
       "    </tr>\n",
       "    <tr>\n",
       "      <th>360</th>\n",
       "      <td>329</td>\n",
       "      <td>Vibrava</td>\n",
       "      <td>Ground</td>\n",
       "      <td>Dragon</td>\n",
       "      <td>340</td>\n",
       "      <td>50</td>\n",
       "      <td>70</td>\n",
       "      <td>50</td>\n",
       "      <td>50</td>\n",
       "      <td>50</td>\n",
       "      <td>70</td>\n",
       "      <td>3</td>\n",
       "      <td>False</td>\n",
       "    </tr>\n",
       "    <tr>\n",
       "      <th>361</th>\n",
       "      <td>330</td>\n",
       "      <td>Flygon</td>\n",
       "      <td>Ground</td>\n",
       "      <td>Dragon</td>\n",
       "      <td>520</td>\n",
       "      <td>80</td>\n",
       "      <td>100</td>\n",
       "      <td>80</td>\n",
       "      <td>80</td>\n",
       "      <td>80</td>\n",
       "      <td>100</td>\n",
       "      <td>3</td>\n",
       "      <td>False</td>\n",
       "    </tr>\n",
       "    <tr>\n",
       "      <th>417</th>\n",
       "      <td>380</td>\n",
       "      <td>Latias</td>\n",
       "      <td>Dragon</td>\n",
       "      <td>Psychic</td>\n",
       "      <td>600</td>\n",
       "      <td>80</td>\n",
       "      <td>80</td>\n",
       "      <td>90</td>\n",
       "      <td>110</td>\n",
       "      <td>130</td>\n",
       "      <td>110</td>\n",
       "      <td>3</td>\n",
       "      <td>True</td>\n",
       "    </tr>\n",
       "    <tr>\n",
       "      <th>418</th>\n",
       "      <td>380</td>\n",
       "      <td>LatiasMega Latias</td>\n",
       "      <td>Dragon</td>\n",
       "      <td>Psychic</td>\n",
       "      <td>700</td>\n",
       "      <td>80</td>\n",
       "      <td>100</td>\n",
       "      <td>120</td>\n",
       "      <td>140</td>\n",
       "      <td>150</td>\n",
       "      <td>110</td>\n",
       "      <td>3</td>\n",
       "      <td>True</td>\n",
       "    </tr>\n",
       "    <tr>\n",
       "      <th>419</th>\n",
       "      <td>381</td>\n",
       "      <td>Latios</td>\n",
       "      <td>Dragon</td>\n",
       "      <td>Psychic</td>\n",
       "      <td>600</td>\n",
       "      <td>80</td>\n",
       "      <td>90</td>\n",
       "      <td>80</td>\n",
       "      <td>130</td>\n",
       "      <td>110</td>\n",
       "      <td>110</td>\n",
       "      <td>3</td>\n",
       "      <td>True</td>\n",
       "    </tr>\n",
       "    <tr>\n",
       "      <th>420</th>\n",
       "      <td>381</td>\n",
       "      <td>LatiosMega Latios</td>\n",
       "      <td>Dragon</td>\n",
       "      <td>Psychic</td>\n",
       "      <td>700</td>\n",
       "      <td>80</td>\n",
       "      <td>130</td>\n",
       "      <td>100</td>\n",
       "      <td>160</td>\n",
       "      <td>120</td>\n",
       "      <td>110</td>\n",
       "      <td>3</td>\n",
       "      <td>True</td>\n",
       "    </tr>\n",
       "    <tr>\n",
       "      <th>425</th>\n",
       "      <td>384</td>\n",
       "      <td>Rayquaza</td>\n",
       "      <td>Dragon</td>\n",
       "      <td>Flying</td>\n",
       "      <td>680</td>\n",
       "      <td>105</td>\n",
       "      <td>150</td>\n",
       "      <td>90</td>\n",
       "      <td>150</td>\n",
       "      <td>90</td>\n",
       "      <td>95</td>\n",
       "      <td>3</td>\n",
       "      <td>True</td>\n",
       "    </tr>\n",
       "    <tr>\n",
       "      <th>426</th>\n",
       "      <td>384</td>\n",
       "      <td>RayquazaMega Rayquaza</td>\n",
       "      <td>Dragon</td>\n",
       "      <td>Flying</td>\n",
       "      <td>780</td>\n",
       "      <td>105</td>\n",
       "      <td>180</td>\n",
       "      <td>100</td>\n",
       "      <td>180</td>\n",
       "      <td>100</td>\n",
       "      <td>115</td>\n",
       "      <td>3</td>\n",
       "      <td>True</td>\n",
       "    </tr>\n",
       "    <tr>\n",
       "      <th>540</th>\n",
       "      <td>483</td>\n",
       "      <td>Dialga</td>\n",
       "      <td>Steel</td>\n",
       "      <td>Dragon</td>\n",
       "      <td>680</td>\n",
       "      <td>100</td>\n",
       "      <td>120</td>\n",
       "      <td>120</td>\n",
       "      <td>150</td>\n",
       "      <td>100</td>\n",
       "      <td>90</td>\n",
       "      <td>4</td>\n",
       "      <td>True</td>\n",
       "    </tr>\n",
       "    <tr>\n",
       "      <th>541</th>\n",
       "      <td>484</td>\n",
       "      <td>Palkia</td>\n",
       "      <td>Water</td>\n",
       "      <td>Dragon</td>\n",
       "      <td>680</td>\n",
       "      <td>90</td>\n",
       "      <td>120</td>\n",
       "      <td>100</td>\n",
       "      <td>150</td>\n",
       "      <td>120</td>\n",
       "      <td>100</td>\n",
       "      <td>4</td>\n",
       "      <td>True</td>\n",
       "    </tr>\n",
       "    <tr>\n",
       "      <th>544</th>\n",
       "      <td>487</td>\n",
       "      <td>GiratinaAltered Forme</td>\n",
       "      <td>Ghost</td>\n",
       "      <td>Dragon</td>\n",
       "      <td>680</td>\n",
       "      <td>150</td>\n",
       "      <td>100</td>\n",
       "      <td>120</td>\n",
       "      <td>100</td>\n",
       "      <td>120</td>\n",
       "      <td>90</td>\n",
       "      <td>4</td>\n",
       "      <td>True</td>\n",
       "    </tr>\n",
       "    <tr>\n",
       "      <th>545</th>\n",
       "      <td>487</td>\n",
       "      <td>GiratinaOrigin Forme</td>\n",
       "      <td>Ghost</td>\n",
       "      <td>Dragon</td>\n",
       "      <td>680</td>\n",
       "      <td>150</td>\n",
       "      <td>120</td>\n",
       "      <td>100</td>\n",
       "      <td>120</td>\n",
       "      <td>100</td>\n",
       "      <td>90</td>\n",
       "      <td>4</td>\n",
       "      <td>True</td>\n",
       "    </tr>\n",
       "    <tr>\n",
       "      <th>694</th>\n",
       "      <td>633</td>\n",
       "      <td>Deino</td>\n",
       "      <td>Dark</td>\n",
       "      <td>Dragon</td>\n",
       "      <td>300</td>\n",
       "      <td>52</td>\n",
       "      <td>65</td>\n",
       "      <td>50</td>\n",
       "      <td>45</td>\n",
       "      <td>50</td>\n",
       "      <td>38</td>\n",
       "      <td>5</td>\n",
       "      <td>False</td>\n",
       "    </tr>\n",
       "    <tr>\n",
       "      <th>695</th>\n",
       "      <td>634</td>\n",
       "      <td>Zweilous</td>\n",
       "      <td>Dark</td>\n",
       "      <td>Dragon</td>\n",
       "      <td>420</td>\n",
       "      <td>72</td>\n",
       "      <td>85</td>\n",
       "      <td>70</td>\n",
       "      <td>65</td>\n",
       "      <td>70</td>\n",
       "      <td>58</td>\n",
       "      <td>5</td>\n",
       "      <td>False</td>\n",
       "    </tr>\n",
       "    <tr>\n",
       "      <th>696</th>\n",
       "      <td>635</td>\n",
       "      <td>Hydreigon</td>\n",
       "      <td>Dark</td>\n",
       "      <td>Dragon</td>\n",
       "      <td>600</td>\n",
       "      <td>92</td>\n",
       "      <td>105</td>\n",
       "      <td>90</td>\n",
       "      <td>125</td>\n",
       "      <td>90</td>\n",
       "      <td>98</td>\n",
       "      <td>5</td>\n",
       "      <td>False</td>\n",
       "    </tr>\n",
       "    <tr>\n",
       "      <th>706</th>\n",
       "      <td>643</td>\n",
       "      <td>Reshiram</td>\n",
       "      <td>Dragon</td>\n",
       "      <td>Fire</td>\n",
       "      <td>680</td>\n",
       "      <td>100</td>\n",
       "      <td>120</td>\n",
       "      <td>100</td>\n",
       "      <td>150</td>\n",
       "      <td>120</td>\n",
       "      <td>90</td>\n",
       "      <td>5</td>\n",
       "      <td>True</td>\n",
       "    </tr>\n",
       "    <tr>\n",
       "      <th>707</th>\n",
       "      <td>644</td>\n",
       "      <td>Zekrom</td>\n",
       "      <td>Dragon</td>\n",
       "      <td>Electric</td>\n",
       "      <td>680</td>\n",
       "      <td>100</td>\n",
       "      <td>150</td>\n",
       "      <td>120</td>\n",
       "      <td>120</td>\n",
       "      <td>100</td>\n",
       "      <td>90</td>\n",
       "      <td>5</td>\n",
       "      <td>True</td>\n",
       "    </tr>\n",
       "    <tr>\n",
       "      <th>710</th>\n",
       "      <td>646</td>\n",
       "      <td>Kyurem</td>\n",
       "      <td>Dragon</td>\n",
       "      <td>Ice</td>\n",
       "      <td>660</td>\n",
       "      <td>125</td>\n",
       "      <td>130</td>\n",
       "      <td>90</td>\n",
       "      <td>130</td>\n",
       "      <td>90</td>\n",
       "      <td>95</td>\n",
       "      <td>5</td>\n",
       "      <td>True</td>\n",
       "    </tr>\n",
       "    <tr>\n",
       "      <th>711</th>\n",
       "      <td>646</td>\n",
       "      <td>KyuremBlack Kyurem</td>\n",
       "      <td>Dragon</td>\n",
       "      <td>Ice</td>\n",
       "      <td>700</td>\n",
       "      <td>125</td>\n",
       "      <td>170</td>\n",
       "      <td>100</td>\n",
       "      <td>120</td>\n",
       "      <td>90</td>\n",
       "      <td>95</td>\n",
       "      <td>5</td>\n",
       "      <td>True</td>\n",
       "    </tr>\n",
       "    <tr>\n",
       "      <th>712</th>\n",
       "      <td>646</td>\n",
       "      <td>KyuremWhite Kyurem</td>\n",
       "      <td>Dragon</td>\n",
       "      <td>Ice</td>\n",
       "      <td>700</td>\n",
       "      <td>125</td>\n",
       "      <td>120</td>\n",
       "      <td>90</td>\n",
       "      <td>170</td>\n",
       "      <td>100</td>\n",
       "      <td>95</td>\n",
       "      <td>5</td>\n",
       "      <td>True</td>\n",
       "    </tr>\n",
       "    <tr>\n",
       "      <th>761</th>\n",
       "      <td>691</td>\n",
       "      <td>Dragalge</td>\n",
       "      <td>Poison</td>\n",
       "      <td>Dragon</td>\n",
       "      <td>494</td>\n",
       "      <td>65</td>\n",
       "      <td>75</td>\n",
       "      <td>90</td>\n",
       "      <td>97</td>\n",
       "      <td>123</td>\n",
       "      <td>44</td>\n",
       "      <td>6</td>\n",
       "      <td>False</td>\n",
       "    </tr>\n",
       "    <tr>\n",
       "      <th>766</th>\n",
       "      <td>696</td>\n",
       "      <td>Tyrunt</td>\n",
       "      <td>Rock</td>\n",
       "      <td>Dragon</td>\n",
       "      <td>362</td>\n",
       "      <td>58</td>\n",
       "      <td>89</td>\n",
       "      <td>77</td>\n",
       "      <td>45</td>\n",
       "      <td>45</td>\n",
       "      <td>48</td>\n",
       "      <td>6</td>\n",
       "      <td>False</td>\n",
       "    </tr>\n",
       "    <tr>\n",
       "      <th>767</th>\n",
       "      <td>697</td>\n",
       "      <td>Tyrantrum</td>\n",
       "      <td>Rock</td>\n",
       "      <td>Dragon</td>\n",
       "      <td>521</td>\n",
       "      <td>82</td>\n",
       "      <td>121</td>\n",
       "      <td>119</td>\n",
       "      <td>69</td>\n",
       "      <td>59</td>\n",
       "      <td>71</td>\n",
       "      <td>6</td>\n",
       "      <td>False</td>\n",
       "    </tr>\n",
       "    <tr>\n",
       "      <th>790</th>\n",
       "      <td>714</td>\n",
       "      <td>Noibat</td>\n",
       "      <td>Flying</td>\n",
       "      <td>Dragon</td>\n",
       "      <td>245</td>\n",
       "      <td>40</td>\n",
       "      <td>30</td>\n",
       "      <td>35</td>\n",
       "      <td>45</td>\n",
       "      <td>40</td>\n",
       "      <td>55</td>\n",
       "      <td>6</td>\n",
       "      <td>False</td>\n",
       "    </tr>\n",
       "    <tr>\n",
       "      <th>791</th>\n",
       "      <td>715</td>\n",
       "      <td>Noivern</td>\n",
       "      <td>Flying</td>\n",
       "      <td>Dragon</td>\n",
       "      <td>535</td>\n",
       "      <td>85</td>\n",
       "      <td>70</td>\n",
       "      <td>80</td>\n",
       "      <td>97</td>\n",
       "      <td>80</td>\n",
       "      <td>123</td>\n",
       "      <td>6</td>\n",
       "      <td>False</td>\n",
       "    </tr>\n",
       "    <tr>\n",
       "      <th>794</th>\n",
       "      <td>718</td>\n",
       "      <td>Zygarde50% Forme</td>\n",
       "      <td>Dragon</td>\n",
       "      <td>Ground</td>\n",
       "      <td>600</td>\n",
       "      <td>108</td>\n",
       "      <td>100</td>\n",
       "      <td>121</td>\n",
       "      <td>81</td>\n",
       "      <td>95</td>\n",
       "      <td>95</td>\n",
       "      <td>6</td>\n",
       "      <td>True</td>\n",
       "    </tr>\n",
       "  </tbody>\n",
       "</table>\n",
       "</div>"
      ],
      "text/plain": [
       "     number                       name    type_1    type_2  total   hp  \\\n",
       "7         6  CharizardMega Charizard X      Fire    Dragon    634   78   \n",
       "196     181      AmpharosMega Ampharos  Electric    Dragon    610   90   \n",
       "249     230                    Kingdra     Water    Dragon    540   75   \n",
       "275     254      SceptileMega Sceptile     Grass    Dragon    630   70   \n",
       "360     329                    Vibrava    Ground    Dragon    340   50   \n",
       "361     330                     Flygon    Ground    Dragon    520   80   \n",
       "417     380                     Latias    Dragon   Psychic    600   80   \n",
       "418     380          LatiasMega Latias    Dragon   Psychic    700   80   \n",
       "419     381                     Latios    Dragon   Psychic    600   80   \n",
       "420     381          LatiosMega Latios    Dragon   Psychic    700   80   \n",
       "425     384                   Rayquaza    Dragon    Flying    680  105   \n",
       "426     384      RayquazaMega Rayquaza    Dragon    Flying    780  105   \n",
       "540     483                     Dialga     Steel    Dragon    680  100   \n",
       "541     484                     Palkia     Water    Dragon    680   90   \n",
       "544     487      GiratinaAltered Forme     Ghost    Dragon    680  150   \n",
       "545     487       GiratinaOrigin Forme     Ghost    Dragon    680  150   \n",
       "694     633                      Deino      Dark    Dragon    300   52   \n",
       "695     634                   Zweilous      Dark    Dragon    420   72   \n",
       "696     635                  Hydreigon      Dark    Dragon    600   92   \n",
       "706     643                   Reshiram    Dragon      Fire    680  100   \n",
       "707     644                     Zekrom    Dragon  Electric    680  100   \n",
       "710     646                     Kyurem    Dragon       Ice    660  125   \n",
       "711     646         KyuremBlack Kyurem    Dragon       Ice    700  125   \n",
       "712     646         KyuremWhite Kyurem    Dragon       Ice    700  125   \n",
       "761     691                   Dragalge    Poison    Dragon    494   65   \n",
       "766     696                     Tyrunt      Rock    Dragon    362   58   \n",
       "767     697                  Tyrantrum      Rock    Dragon    521   82   \n",
       "790     714                     Noibat    Flying    Dragon    245   40   \n",
       "791     715                    Noivern    Flying    Dragon    535   85   \n",
       "794     718           Zygarde50% Forme    Dragon    Ground    600  108   \n",
       "\n",
       "     attack  defense  sp_atk  sp_def  speed  generation  legendary  \n",
       "7       130      111     130      85    100           1      False  \n",
       "196      95      105     165     110     45           2      False  \n",
       "249      95       95      95      95     85           2      False  \n",
       "275     110       75     145      85    145           3      False  \n",
       "360      70       50      50      50     70           3      False  \n",
       "361     100       80      80      80    100           3      False  \n",
       "417      80       90     110     130    110           3       True  \n",
       "418     100      120     140     150    110           3       True  \n",
       "419      90       80     130     110    110           3       True  \n",
       "420     130      100     160     120    110           3       True  \n",
       "425     150       90     150      90     95           3       True  \n",
       "426     180      100     180     100    115           3       True  \n",
       "540     120      120     150     100     90           4       True  \n",
       "541     120      100     150     120    100           4       True  \n",
       "544     100      120     100     120     90           4       True  \n",
       "545     120      100     120     100     90           4       True  \n",
       "694      65       50      45      50     38           5      False  \n",
       "695      85       70      65      70     58           5      False  \n",
       "696     105       90     125      90     98           5      False  \n",
       "706     120      100     150     120     90           5       True  \n",
       "707     150      120     120     100     90           5       True  \n",
       "710     130       90     130      90     95           5       True  \n",
       "711     170      100     120      90     95           5       True  \n",
       "712     120       90     170     100     95           5       True  \n",
       "761      75       90      97     123     44           6      False  \n",
       "766      89       77      45      45     48           6      False  \n",
       "767     121      119      69      59     71           6      False  \n",
       "790      30       35      45      40     55           6      False  \n",
       "791      70       80      97      80    123           6      False  \n",
       "794     100      121      81      95     95           6       True  "
      ]
     },
     "execution_count": 93,
     "metadata": {},
     "output_type": "execute_result"
    }
   ],
   "source": [
    "df3=df[(df['legendary']==True) & (df['type_1']== 'Dragon') |(df['type_2']== 'Dragon')]\n",
    "df3"
   ]
  },
  {
   "cell_type": "code",
   "execution_count": null,
   "id": "1bf2f776",
   "metadata": {},
   "outputs": [],
   "source": []
  }
 ],
 "metadata": {
  "kernelspec": {
   "display_name": "Python 3 (ipykernel)",
   "language": "python",
   "name": "python3"
  },
  "language_info": {
   "codemirror_mode": {
    "name": "ipython",
    "version": 3
   },
   "file_extension": ".py",
   "mimetype": "text/x-python",
   "name": "python",
   "nbconvert_exporter": "python",
   "pygments_lexer": "ipython3",
   "version": "3.11.5"
  }
 },
 "nbformat": 4,
 "nbformat_minor": 5
}
